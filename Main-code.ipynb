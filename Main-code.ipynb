{
 "cells": [
  {
   "cell_type": "code",
   "execution_count": 1,
   "id": "d4aaf2cc",
   "metadata": {},
   "outputs": [],
   "source": [
    "from pyomo.environ import *"
   ]
  },
  {
   "cell_type": "code",
   "execution_count": 2,
   "id": "4f22e751",
   "metadata": {},
   "outputs": [],
   "source": [
    "model = ConcreteModel()\n",
    "\n",
    "model.j = Var(bounds=(5,9), within=NonNegativeReals) #Current density (mA/cm2)\n",
    "model.C0 = Var(bounds=(200,400), within=NonNegativeReals) #Initial nickel concentration (mg/L)\n",
    "model.pH0 = Var(bounds=(5,9), within=NonNegativeReals) #Initial pH of the solution (-)\n",
    "model.T = Var(bounds=(30,60), within=NonNegativeReals) #Electrolysis time (min)\n",
    "\n",
    "model.OF1 = Var(bounds=(0,100), within=NonNegativeReals) #Nickel removal efficiency (%)\n",
    "model.OF2 = Var(within=NonNegativeReals) #Operating costs (US$/m3)\n",
    "\n",
    "model.epsilon = Param(initialize=10000, mutable=True) #Definition of the ε parameter"
   ]
  },
  {
   "cell_type": "code",
   "execution_count": 3,
   "id": "67e78eea",
   "metadata": {},
   "outputs": [],
   "source": [
    "model.eq1 = Constraint(expr= model.OF1== -246.32356 + 52.77326*model.j - 0.243885*model.C0 + 25.82701*model.pH0\n",
    "                       + 2.31087*model.T + 0.029504*model.j*model.C0 - 1.90775*model.j*model.pH0\n",
    "                       - 0.166890*model.j*model.T + 0.006918*model.C0*model.pH0 + 0.00015*model.C0*model.T               \n",
    "                       - 0.035824*model.pH0*model.T - 2.22971*model.j**2 - 0.000194*model.C0**2 - 0.586381*model.pH0**2\n",
    "                       - 0.005699*model.T**2) #Obtained model for the nickel removal efficiency\n",
    "\n",
    "model.eq2 = Constraint(expr= model.OF2== -0.394510 + 0.145786*model.j - 0.000021*model.C0 - 0.004372*model.pH0\n",
    "                       + 0.025888*model.T) #Obtained model for the operating costs\n",
    "\n",
    "model.eq3 = Constraint(expr= model.OF1<=model.epsilon) #Applying the ε-constraint method"
   ]
  },
  {
   "cell_type": "code",
   "execution_count": 4,
   "id": "3205d280",
   "metadata": {},
   "outputs": [],
   "source": [
    "#Goal of each Objective Function\n",
    "model.obj1 = Objective(expr=model.OF1, sense=maximize)\n",
    "model.obj2 = Objective(expr=model.OF2, sense=minimize)"
   ]
  },
  {
   "cell_type": "code",
   "execution_count": 5,
   "id": "647db1ff",
   "metadata": {},
   "outputs": [],
   "source": [
    "#Applying the IPOPT solver\n",
    "opt = SolverFactory('ipopt')"
   ]
  },
  {
   "cell_type": "code",
   "execution_count": 6,
   "id": "0831f40e",
   "metadata": {},
   "outputs": [
    {
     "name": "stdout",
     "output_type": "stream",
     "text": [
      "minOF1 =  47.51\n"
     ]
    }
   ],
   "source": [
    "#Obtain the least obliged amount of OF1\n",
    "model.obj1.deactivate() \n",
    "results = opt.solve(model)\n",
    "\n",
    "minOF1=value(model.obj1)\n",
    "\n",
    "print('minOF1 = ',round(value(model.obj1),2))"
   ]
  },
  {
   "cell_type": "code",
   "execution_count": 7,
   "id": "9030315a",
   "metadata": {},
   "outputs": [
    {
     "name": "stdout",
     "output_type": "stream",
     "text": [
      "maxOF1 =  100.0\n"
     ]
    }
   ],
   "source": [
    "#Obtain the most possible amount of OF1\n",
    "model.obj2.deactivate() \n",
    "model.obj1.activate() \n",
    "results = opt.solve(model)\n",
    "\n",
    "maxOF1=value(model.obj1)\n",
    "\n",
    "print('maxOF1 = ',round(value(model.obj1),2))"
   ]
  },
  {
   "cell_type": "code",
   "execution_count": 8,
   "id": "adb61239",
   "metadata": {},
   "outputs": [
    {
     "name": "stdout",
     "output_type": "stream",
     "text": [
      "  j         C0        pH0       T         maximized OF1      minimized OF2      Epsilon \n",
      " 5.49      354.00     5.86     39.94          47.51             1.41            47.51\n",
      " 5.54      353.55     5.92     40.11          49.32             1.42            49.32\n",
      " 5.59      352.85     5.98     40.35          51.13             1.43            51.13\n",
      " 5.64      351.94     6.04     40.63          52.94             1.45            52.94\n",
      " 5.69      350.87     6.09     40.93          54.75             1.46            54.75\n",
      " 5.74      349.65     6.14     41.25          56.56             1.48            56.56\n",
      " 5.73      341.06     6.13     42.10          58.37             1.50            58.37\n",
      " 5.79      340.63     6.19     42.23          60.18             1.51            60.18\n",
      " 5.86      339.96     6.24     42.42          61.99             1.52            61.99\n",
      " 5.92      339.11     6.30     42.63          63.80             1.54            63.80\n",
      " 5.98      338.09     6.35     42.87          65.61             1.55            65.61\n",
      " 6.05      336.93     6.40     43.12          67.42             1.57            67.42\n",
      " 6.06      328.39     6.40     43.79          69.23             1.59            69.23\n",
      " 6.14      327.98     6.46     43.90          71.04             1.60            71.04\n",
      " 6.22      327.36     6.51     44.05          72.85             1.62            72.85\n",
      " 6.31      326.53     6.56     44.22          74.66             1.63            74.66\n",
      " 6.40      325.54     6.61     44.42          76.47             1.65            76.47\n",
      " 6.49      324.40     6.66     44.62          78.28             1.67            78.28\n",
      " 6.52      315.79     6.67     45.16          80.09             1.69            80.09\n",
      " 6.63      315.36     6.73     45.26          81.90             1.71            81.90\n",
      " 6.74      314.67     6.79     45.40          83.71             1.73            83.71\n",
      " 6.86      313.74     6.85     45.58          85.52             1.75            85.52\n",
      " 6.98      312.56     6.91     45.78          87.33             1.77            87.33\n",
      " 7.04      303.25     6.93     46.31          89.14             1.79            89.14\n",
      " 7.19      302.62     7.01     46.45          90.95             1.82            90.95\n",
      " 7.34      301.49     7.10     46.66          92.76             1.85            92.76\n",
      " 7.42      291.36     7.15     47.27          94.57             1.87            94.57\n",
      " 7.61      289.56     7.28     47.56          96.38             1.91            96.38\n",
      " 7.70      277.25     7.37     48.37          98.19             1.94            98.19\n",
      " 7.83      265.69     7.54     49.35          100.00             1.99            100.00\n"
     ]
    }
   ],
   "source": [
    "#Obtain the pareto front with 30 iteration\n",
    "Nsteps=30\n",
    "X=[]\n",
    "Y=[]\n",
    "print('  j    ','    C0 ','      pH0  ','    T ','       maximized OF1 ','    minimized OF2 ','    Epsilon ')\n",
    "for counter in range(1,Nsteps+1):\n",
    "    model.epsilon = minOF1+(maxOF1-minOF1)*(counter-1)/(Nsteps-1)\n",
    "    results = opt.solve(model)\n",
    "    print(\"%5.2f     \"% value(model.j),\"%5.2f\"% value(model.C0),\"   %5.2f\"% value(model.pH0),\"    %5.2f\"% value(model.T),\"         %5.2f\"% value(model.obj1),\"           %5.2f\"% value(model.obj2), \"           %5.2f\"% value(model.epsilon))\n",
    "    X.append(value(model.obj1))\n",
    "    Y.append(value(model.obj2))"
   ]
  }
 ],
 "metadata": {
  "kernelspec": {
   "display_name": "Python 3 (ipykernel)",
   "language": "python",
   "name": "python3"
  },
  "language_info": {
   "codemirror_mode": {
    "name": "ipython",
    "version": 3
   },
   "file_extension": ".py",
   "mimetype": "text/x-python",
   "name": "python",
   "nbconvert_exporter": "python",
   "pygments_lexer": "ipython3",
   "version": "3.10.9"
  }
 },
 "nbformat": 4,
 "nbformat_minor": 5
}
